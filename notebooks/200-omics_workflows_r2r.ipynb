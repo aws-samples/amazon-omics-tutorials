{
 "cells": [
  {
   "cell_type": "markdown",
   "id": "01679a33",
   "metadata": {
    "tags": []
   },
   "source": [
    "# Running R2R (Ready to Run) workflows"
   ]
  },
  {
   "cell_type": "markdown",
   "id": "21115846",
   "metadata": {},
   "source": [
    "In this tutorial, you will learn how to run any of the existing READY2RUN Omics Workflows."
   ]
  },
  {
   "cell_type": "markdown",
   "id": "0d3fd7f6",
   "metadata": {},
   "source": [
    "## Prerequisites\n",
    "### Python requirements\n",
    "* Python >= 3.8\n",
    "* Packages:\n",
    "  * boto3 >= 1.26.19\n",
    "  * botocore >= 1.29.19\n",
    "\n",
    "### AWS requirements\n",
    "\n",
    "#### AWS CLI\n",
    "You will need the AWS CLI installed and configured in your environment. Supported AWS CLI versions are:\n",
    "\n",
    "* AWS CLI v2 >= 2.9.3 (Recommended)\n",
    "* AWS CLI v1 >= 1.27.19\n",
    "\n",
    "#### Output buckets\n",
    "You will need a bucket **in the same region** you are running this tutorial in, to store workflow outputs."
   ]
  },
  {
   "cell_type": "markdown",
   "id": "f86339cd-c9ab-4512-80e0-fe55da1fe130",
   "metadata": {},
   "source": [
    "## Policy setup\n",
    "This notebook runs under the role that was created or selected during notebook creation.<br>\n",
    "By executing the following code snippet you can crosscheck the role name."
   ]
  },
  {
   "cell_type": "code",
   "execution_count": null,
   "id": "cb63b334-d212-4ae2-bb6d-694680bbdad8",
   "metadata": {},
   "outputs": [],
   "source": [
    "boto3.client('sts').get_caller_identity()['Arn']"
   ]
  },
  {
   "cell_type": "markdown",
   "id": "d4adc94b-c990-4ca7-80f2-321d90a1572f",
   "metadata": {},
   "source": [
    "We need to enrich this role with policy permissions, so that actions executed in upcoming statements do not fail.<br>\n",
    "Here is a sample policy that can to be added to the role. It must be noted that this is a sample policy, for the needs of this tutorial.<br>\n",
    "In a production environment, actual policy must be much more restrictive."
   ]
  },
  {
   "cell_type": "code",
   "execution_count": null,
   "id": "aeb33b7c-dbf9-4b2f-8f62-bf9c40feab7f",
   "metadata": {},
   "outputs": [],
   "source": [
    "{\n",
    "    \"Version\": \"2012-10-17\",\n",
    "    \"Statement\": [\n",
    "        {\n",
    "            \"Sid\": \"VisualEditor0\",\n",
    "            \"Effect\": \"Allow\",\n",
    "            \"Action\": [\n",
    "                \"iam:GetPolicy\",\n",
    "                \"iam:CreatePolicy\",\n",
    "                \"iam:DeletePolicy\",\n",
    "                \"iam:ListPolicyVersions\",\n",
    "                \"iam:ListEntitiesForPolicy\",\n",
    "                \"iam:CreateRole\",\n",
    "                \"iam:DeleteRole\",\n",
    "                \"iam:DeletePolicyVersion\",\n",
    "                \"iam:AttachRolePolicy\",\n",
    "                \"iam:DetachRolePolicy\",\n",
    "                \"iam:ListAttachedRolePolicies\",\n",
    "                \"iam:PassRole\",\n",
    "                \"omics:*\"\n",
    "            ],\n",
    "            \"Resource\": \"*\"\n",
    "        }\n",
    "    ]\n",
    "}"
   ]
  },
  {
   "cell_type": "markdown",
   "id": "b25326f3",
   "metadata": {},
   "source": [
    "## Environment setup"
   ]
  },
  {
   "cell_type": "markdown",
   "id": "2a1b66f3-5f44-4ad2-bdd2-6bfb369ab55f",
   "metadata": {},
   "source": [
    "Reset environment, in case you are re-running this tutorial.<br> "
   ]
  },
  {
   "cell_type": "code",
   "execution_count": null,
   "id": "d09d8022-36e0-4875-85f8-4119a9971998",
   "metadata": {
    "tags": []
   },
   "outputs": [],
   "source": [
    "%reset -f"
   ]
  },
  {
   "cell_type": "markdown",
   "id": "32cb1cfe-d380-4776-ac8c-efc6565c293a",
   "metadata": {},
   "source": [
    "Load helper functions from helper notebook."
   ]
  },
  {
   "cell_type": "code",
   "execution_count": null,
   "id": "09071355-fdf0-4236-a0f1-e74107c76483",
   "metadata": {},
   "outputs": [],
   "source": [
    "%run 200-omics_helper_functions.ipynb"
   ]
  },
  {
   "cell_type": "markdown",
   "id": "0175894a-469c-4733-9ec5-29ed2c3fff3e",
   "metadata": {},
   "source": [
    "Import libraries"
   ]
  },
  {
   "cell_type": "code",
   "execution_count": null,
   "id": "788ade24",
   "metadata": {},
   "outputs": [],
   "source": [
    "import boto3\n",
    "from urllib.parse import urlparse"
   ]
  },
  {
   "cell_type": "markdown",
   "id": "b878b01a",
   "metadata": {},
   "source": [
    "## Create a service IAM role\n",
    "To use Amazon Omics, you need to create an IAM role that grants the Omics service permissions to access resources in your account. We'll do this below using the IAM client.\n",
    "\n",
    "> **Note**: this step is fully automated from the Omics Workflows Console when you create a run"
   ]
  },
  {
   "cell_type": "code",
   "execution_count": null,
   "id": "d5a7b7ac",
   "metadata": {},
   "outputs": [],
   "source": [
    "omics_role_name = 'omics-r2r-tutorial-service-role'\n",
    "omics_role_trust_policy =  {\n",
    "        \"Version\": \"2012-10-17\",\n",
    "        \"Statement\": [{\n",
    "            \"Principal\": {\n",
    "                \"Service\": \"omics.amazonaws.com\"\n",
    "            },\n",
    "            \"Effect\": \"Allow\",\n",
    "            \"Action\": \"sts:AssumeRole\"\n",
    "        }]\n",
    "    }\n",
    "\n",
    "# delete role (if it exists) and create a new one\n",
    "omics_role = omics_helper_recreate_role(omics_role_name, omics_role_trust_policy)"
   ]
  },
  {
   "cell_type": "markdown",
   "id": "ee9b0e33",
   "metadata": {},
   "source": [
    "After creating the role, we next need to add policies to grant permissions. In this case, we are allowing read/write access to all S3 buckets in the account. This is fine for this tutorial, but in a real world setting you will want to scope this down to only the necessary resources. We are also adding a permissions to create CloudWatch Logs which is where any outputs sent to `STDOUT` or `STDERR` are collected."
   ]
  },
  {
   "cell_type": "code",
   "execution_count": null,
   "id": "fccbdeec",
   "metadata": {},
   "outputs": [],
   "source": [
    "s3_policy_name = f\"omics-r2r-tutorial-s3-access-policy\"\n",
    "s3_policy_permissions = {\n",
    "        \"Version\": \"2012-10-17\",\n",
    "        \"Statement\": [\n",
    "            {\n",
    "                \"Effect\": \"Allow\",\n",
    "                \"Action\": [\n",
    "                    \"s3:PutObject\",\n",
    "                    \"s3:Get*\",\n",
    "                    \"s3:List*\",\n",
    "                ],\n",
    "                \"Resource\": [\n",
    "                    \"arn:aws:s3:::*/*\"\n",
    "                ]\n",
    "            }\n",
    "        ]\n",
    "    }\n",
    "\n",
    "AWS_ACCOUNT_ID = boto3.client('sts').get_caller_identity()['Account']\n",
    "\n",
    "logs_policy_name = f\"omics-r2r-tutorial-logs-access-policy\"\n",
    "logs_policy_permissions = {\n",
    "        \"Version\": \"2012-10-17\",\n",
    "        \"Statement\": [\n",
    "            {\n",
    "                \"Effect\": \"Allow\",\n",
    "                \"Action\": [\n",
    "                    \"logs:CreateLogGroup\"\n",
    "                ],\n",
    "                \"Resource\": [\n",
    "                    f\"arn:aws:logs:*:{AWS_ACCOUNT_ID}:log-group:/aws/omics/WorkflowLog:*\"\n",
    "                ]\n",
    "            },\n",
    "            {\n",
    "                \"Effect\": \"Allow\",\n",
    "                \"Action\": [\n",
    "                    \"logs:DescribeLogStreams\",\n",
    "                    \"logs:CreateLogStream\",\n",
    "                    \"logs:PutLogEvents\",\n",
    "                ],\n",
    "                \"Resource\": [\n",
    "                    f\"arn:aws:logs:*:{AWS_ACCOUNT_ID}:log-group:/aws/omics/WorkflowLog:log-stream:*\"\n",
    "                ]\n",
    "            }\n",
    "        ]\n",
    "    }\n",
    "\n",
    "s3_policy = omics_helper_recreate_policy(s3_policy_name, s3_policy_permissions)\n",
    "logs_policy = omics_helper_recreate_policy(logs_policy_name, logs_policy_permissions)\n",
    "\n",
    "# attach policies to role\n",
    "iam_client = boto3.client(\"iam\")\n",
    "iam_client.attach_role_policy(RoleName=omics_role['Role']['RoleName'], PolicyArn=s3_policy['Policy']['Arn'])\n",
    "iam_client.attach_role_policy(RoleName=omics_role['Role']['RoleName'], PolicyArn=logs_policy['Policy']['Arn'])"
   ]
  },
  {
   "cell_type": "markdown",
   "id": "a1db3648",
   "metadata": {},
   "source": [
    "## Getting the list of READY2RUN workflows\n",
    "Using the omics client we can get the full list of READY2RUN workflows.<br>\n",
    "Here, we print the id, name properties of workflows, in order to get a quick view."
   ]
  },
  {
   "cell_type": "code",
   "execution_count": null,
   "id": "51854f6e",
   "metadata": {},
   "outputs": [],
   "source": [
    "omics_client = boto3.client('omics')\n",
    "\n",
    "r2r_workflows = omics_client.list_workflows(type=\"READY2RUN\")\n",
    "r2r_workflows_items = r2r_workflows['items']\n",
    "\n",
    "for r2r_workflow_item in r2r_workflows_items:\n",
    "    print(r2r_workflow_item['id'], '\\t', r2r_workflow_item['name'])"
   ]
  },
  {
   "cell_type": "markdown",
   "id": "8227f711",
   "metadata": {},
   "source": [
    "We will showcase the execution of a READY2RUN workflow.<br>\n",
    "We select the (1830181, ESMFold for up to 800 residues) workflow for demo purposes."
   ]
  },
  {
   "cell_type": "code",
   "execution_count": null,
   "id": "dd55397d-b88c-428e-bd1b-e348f9d81174",
   "metadata": {
    "tags": []
   },
   "outputs": [],
   "source": [
    "workflow = [r2r_workflow_item for r2r_workflow_item in r2r_workflows_items if r2r_workflow_item[\"id\"] == \"1830181\" ][0]\n",
    "omics_helper_pretty_print(workflow)"
   ]
  },
  {
   "cell_type": "markdown",
   "id": "d23207af-90a4-4b97-b1c1-04a3a7cbdd14",
   "metadata": {},
   "source": [
    "We get the full details of the specific workflow, in order to examine its parameter template."
   ]
  },
  {
   "cell_type": "code",
   "execution_count": null,
   "id": "11fa14f5-82d4-4790-859e-683d7acce796",
   "metadata": {
    "tags": []
   },
   "outputs": [],
   "source": [
    "workflow_details_parameterTemplate = omics_client.get_workflow(id=workflow['id'], type=\"READY2RUN\")['parameterTemplate']\n",
    "omics_helper_pretty_print(workflow_details_parameterTemplate)"
   ]
  },
  {
   "cell_type": "markdown",
   "id": "35661270-b333-4a3e-b9cd-05443674111b",
   "metadata": {},
   "source": [
    "The specific workflow has one only parameter, the description of which is shown in the output.<br>\n",
    "We can now run the workflow, as any other workflow through the Amazon Omics."
   ]
  },
  {
   "cell_type": "markdown",
   "id": "0eb3a3e8-f922-4788-afe7-d5c0fa5d8518",
   "metadata": {},
   "source": [
    "## Executing a READY2RUN workflow\n",
    "Prior to run execution, we get the current region, in which this notebook is operating. <br>\n",
    "We will use region name to compose the regional S3 bucket that holds input test data for the specific workflow."
   ]
  },
  {
   "cell_type": "code",
   "execution_count": null,
   "id": "90dcc958-669f-4235-beb7-3eb7e2970972",
   "metadata": {},
   "outputs": [],
   "source": [
    "region_name = boto3.Session().region_name\n",
    "print(region_name)"
   ]
  },
  {
   "cell_type": "code",
   "execution_count": null,
   "id": "2df6865b",
   "metadata": {
    "tags": []
   },
   "outputs": [],
   "source": [
    "input_fasta_path_uri = f\"s3://aws-genomics-static-{region_name}/omics-tutorials/data/workflows/r2r/1830181/target.fasta\"\n",
    "\n",
    "## NOTE: replace these S3 URIs with ones you have access to\n",
    "output_uri = \"s3://ktzouvan-omics-ireland/results\"\n",
    "\n",
    "run = omics_client.start_run(\n",
    "    workflowId=workflow['id'],\n",
    "    workflowType='READY2RUN',\n",
    "    name=\"1830181 R2R workflow run\",\n",
    "    roleArn=omics_role['Role']['Arn'],\n",
    "    parameters={\n",
    "        \"fasta_path\": input_fasta_path_uri\n",
    "    },\n",
    "    outputUri=output_uri,\n",
    ")\n",
    "\n",
    "print(f\"running workflow {workflow['id']}, starting run {run['id']}\")\n",
    "\n",
    "try:\n",
    "    waiter = omics_client.get_waiter('run_running')\n",
    "    waiter.wait(id=run['id'], WaiterConfig={'Delay': 30, 'MaxAttempts': 60})\n",
    "\n",
    "    print(f\"run {run['id']} is running\")\n",
    "\n",
    "    waiter = omics_client.get_waiter('run_completed')\n",
    "    waiter.wait(id=run['id'], WaiterConfig={'Delay': 60, 'MaxAttempts': 60})\n",
    "\n",
    "    print(f\"run {run['id']} completed\")\n",
    "except botocore.exceptions.WaiterError as e:\n",
    "    print(e)"
   ]
  },
  {
   "cell_type": "markdown",
   "id": "6b888cf2",
   "metadata": {},
   "source": [
    "Once the run completes we can verify its status by getting its details:"
   ]
  },
  {
   "cell_type": "code",
   "execution_count": null,
   "id": "1aaa3b99",
   "metadata": {},
   "outputs": [],
   "source": [
    "omics_helper_pretty_print(omics_client.get_run(id=run['id']))"
   ]
  },
  {
   "cell_type": "markdown",
   "id": "fc4ba10a",
   "metadata": {},
   "source": [
    "## Validating output of a READY2RUN workflow\n",
    "We can verify that the correct output was generated by listing the `outputUri` for the workflow run:"
   ]
  },
  {
   "cell_type": "code",
   "execution_count": null,
   "id": "0d813f10",
   "metadata": {},
   "outputs": [],
   "source": [
    "s3uri = urlparse(omics_client.get_run(id=run['id'])['outputUri'])\n",
    "boto3.client('s3').list_objects_v2(Bucket=s3uri.netloc, Prefix='/'.join([s3uri.path[1:], run['id']]))['Contents']"
   ]
  },
  {
   "cell_type": "markdown",
   "id": "45a4eecf",
   "metadata": {},
   "source": [
    "Like standard workflows, R2R workflows support all the features of the Amazon Omics Platform. <br>\n",
    "As such, tasks, logs and run groups are fully supported. Here, we showcase how to get list of tasks and corresponding log streams."
   ]
  },
  {
   "cell_type": "code",
   "execution_count": null,
   "id": "adfa890f",
   "metadata": {},
   "outputs": [],
   "source": [
    "tasks = omics_client.list_run_tasks(id=run['id'])\n",
    "omics_helper_pretty_print(tasks['items'])"
   ]
  },
  {
   "cell_type": "markdown",
   "id": "85a436fb",
   "metadata": {},
   "source": [
    "and get specific task details with:"
   ]
  },
  {
   "cell_type": "code",
   "execution_count": null,
   "id": "8abe0bbf",
   "metadata": {},
   "outputs": [],
   "source": [
    "task = omics_client.get_run_task(id=run['id'], taskId=tasks['items'][0]['taskId'])\n",
    "omics_helper_pretty_print(task)"
   ]
  },
  {
   "cell_type": "markdown",
   "id": "ad0ff9b3",
   "metadata": {},
   "source": [
    "After running the cell above we should see that each task has an associated CloudWatch Logs LogStream. These capture any text generated by the workflow task that has been sent to either `STDOUT` or `STDERR`. These outputs are helpful for debugging any task failures and can be retrieved with:"
   ]
  },
  {
   "cell_type": "code",
   "execution_count": null,
   "id": "e7ba6e85",
   "metadata": {},
   "outputs": [],
   "source": [
    "events = boto3.client('logs').get_log_events(\n",
    "    logGroupName=\"/aws/omics/WorkflowLog\",\n",
    "    logStreamName=f\"run/{run['id']}/task/{task['taskId']}\"\n",
    ")\n",
    "for event in events['events']:\n",
    "    print(event['message'])"
   ]
  },
  {
   "cell_type": "markdown",
   "id": "e666c096",
   "metadata": {},
   "source": [
    "Functionality of Run Groups is not presented here, since it is identical to those in the workflows notebook tutorial"
   ]
  }
 ],
 "metadata": {
  "kernelspec": {
   "display_name": "conda_python3",
   "language": "python",
   "name": "conda_python3"
  },
  "language_info": {
   "codemirror_mode": {
    "name": "ipython",
    "version": 3
   },
   "file_extension": ".py",
   "mimetype": "text/x-python",
   "name": "python",
   "nbconvert_exporter": "python",
   "pygments_lexer": "ipython3",
   "version": "3.10.8"
  },
  "vscode": {
   "interpreter": {
    "hash": "31f2aee4e71d21fbe5cf8b01ff0e069b9275f58929596ceb00d14d90e3e16cd6"
   }
  }
 },
 "nbformat": 4,
 "nbformat_minor": 5
}
